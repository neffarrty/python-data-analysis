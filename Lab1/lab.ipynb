{
 "cells": [
  {
   "cell_type": "code",
   "execution_count": 1,
   "id": "05a632d0-e4d9-498d-a8f4-b97d7be1169f",
   "metadata": {},
   "outputs": [
    {
     "name": "stdout",
     "output_type": "stream",
     "text": [
      "Variant: 10\n"
     ]
    }
   ],
   "source": [
    "print('Variant:', ord('Y') % 10 + 1)"
   ]
  },
  {
   "cell_type": "markdown",
   "id": "35e1ff08",
   "metadata": {},
   "source": [
    "### Task 1.\n",
    "\n",
    "Using the Markdown language and HTML tags for the country, according to its variant number, enter information about the area, population, government, prominent personalities, cultural and natural monuments, etc.\n",
    "\n",
    "When processing information, the following should be used:\n",
    "- headings of different levels;\n",
    "- different types of symbols (italic, bold, etc.);\n",
    "- symbols of different colors;\n",
    "- frames around the text;\n",
    "- tables;\n",
    "- nested lists;\n",
    "- images via links and embedded;\n",
    "- hyperlink\n",
    "- using the HTML \\<svg> tag, draw the flag of the country."
   ]
  },
  {
   "cell_type": "markdown",
   "id": "2c071ffd",
   "metadata": {},
   "source": [
    "# <span style=\"color: #6495ED;\">Норвегія</span>\n",
    "---\n",
    "<div style=\"border: 2px solid gray; padding: 10px;\">\n",
    "  Норвегія - північноєвропейська країна і суверенна держава на Скандинавському півострові. Окрім материкової частини, Норвегії належить арктичний архіпелаг Шпіцберген та острів Ян-Маєн на межі Гренландського й Норвезького морів, острів Буве в Південній Атлантиці.\n",
    "</div>"
   ]
  },
  {
   "cell_type": "markdown",
   "id": "04647728-a139-410a-b14a-9c15ca591b04",
   "metadata": {},
   "source": [
    "## <span style=\"color: #6495ED;\">Прапор Норвегії</span>\n",
    "\n",
    "<svg width=\"440\" height=\"320\" version=\"1.1\" xmlns=\"http://www.w3.org/2000/svg\">\n",
    "  <rect x=\"0\" y=\"0\" width=\"440\" height=\"320\" fill=\"#ba0c2f\"/>\n",
    "  <rect x=\"120\" y=\"0\" width=\"80\" height=\"320\" fill=\"#fff\"/>\n",
    "  <rect x=\"0\" y=\"120\" width=\"440\" height=\"80\" fill=\"#fff\"/>\n",
    "  <rect x=\"140\" y=\"0\" width=\"40\" height=\"320\" fill=\"#00205b\"/>\n",
    "  <rect x=\"0\" y=\"140\" width=\"440\" height=\"40\" fill=\"#00205b\"/>\n",
    "</svg>"
   ]
  },
  {
   "cell_type": "markdown",
   "id": "f2f266aa",
   "metadata": {},
   "source": [
    "## <span style=\"color: #6495ED;\">Норвегія на карті Європи</span>\n",
    "\n",
    "![norway](./img/norway.png)"
   ]
  },
  {
   "cell_type": "markdown",
   "id": "c8aff82f",
   "metadata": {},
   "source": [
    "## <span style=\"color: #6495ED;\">Короткі відомості</span>\n",
    "---\n",
    "\n",
    "| Столиця | Площа       | Населення | Форма правління        | Валюта          | Офіційні мови\t     | ВВП           | Часовий пояс | Домен  | Девіз           |\n",
    "|:-------:|:-----------:|:---------:|:----------------------:|:---------------:|:-------------------:|:-------------:|:------------:|:------:|:---------------:|\n",
    "| Осло    | 385 207 км² | 5,550,203 | конституційна монархія | Норвезька крона | норвезька, саамська | $265,911 млрд | UTC+1        | .no    | «Alt for Norge» |"
   ]
  },
  {
   "cell_type": "markdown",
   "id": "3e328bca",
   "metadata": {},
   "source": [
    "## <span style=\"color: #6495ED;\">Видатні персоналії</span>\n",
    "---\n",
    "- **Митці**\n",
    "  + *[Генрік Ібсен](https://uk.wikipedia.org/wiki/Генрік_Ібсен)* — норвезький драматург\n",
    "  + *[Б'єрнстьєрне Б'єрнсон](https://uk.wikipedia.org/wiki/Б%27єрнстьєрне_Б%27єрнсон)* - норвезький письменник, лауреат Нобелівської премії з літератури 1903 року\n",
    "  + *[Мортен Гаркет](https://uk.wikipedia.org/wiki/Мортен_Гаркет)* - вокаліст норвезького поп-гурту A-ha\n",
    "  + *[Раґнар Торнквіст](https://uk.wikipedia.org/wiki/Раґнар_Торнквіст)* - розробник комп'ютерних ігор (Dreamfall: The Longest Journey)\n",
    "- **Науковці та першовідкривачі**\n",
    "  + *[Ерік Рудий](https://uk.wikipedia.org/wiki/Ерік_Рудий)* — мореплавець і першовідкривач, що заснував перше поселення в Гренландії\n",
    "  + *[Руаль Амундсен](https://uk.wikipedia.org/wiki/Руаль_Амундсен)* — полярний дослідник\n",
    "  + *[Арне Несс](https://uk.wikipedia.org/wiki/Арне_Несс)* - визначний норвезький філософ XX століття, еколог і альпініст\n",
    "- **Державні та військові діячі**\n",
    "  + *[Єнс Столтенберг](https://uk.wikipedia.org/wiki/Єнс_Столтенберг)* — норвезький державний і політичний діяч\n",
    "  + *[Трюгве Гальвдан Лі](https://uk.wikipedia.org/wiki/Трюгве_Гальвдан_Лі)* — 1-й вибраний Генеральний секретар ООН\n",
    "- **Спортсмени**\n",
    "  + *[Магнус Карлсен](https://uk.wikipedia.org/wiki/Маґнус_Карлсен)* — норвезький шаховий гросмейстер, очолює світовий рейтинг\n",
    "  + *[Петтер Нортуг](https://uk.wikipedia.org/wiki/Петтер_Нуртуг)* — легендарний лижник, дворазовий олімпійський чемпіон, володар звання Короля лиж\n",
    "  + *[Ерлінг Голанн](https://uk.wikipedia.org/wiki/Ерлінг_Голанн)* — норвезький футболіст, нападник англійського клубу «Манчестер Сіті» і збірної Норвегії"
   ]
  },
  {
   "cell_type": "markdown",
   "id": "8a1933de-f11a-49fd-a43a-2ed9ca72e534",
   "metadata": {},
   "source": [
    "## <span style=\"color: #6495ED;\">Пам'ятки природи та культури</span>\n",
    "---\n",
    "### ***Юстедальсбреен***\n",
    "Один з найбільших європейських льодовиків займає площу в чотириста вісімдесят сім квадратних кілометрів і має близько п’ятдесяти самостійних льодовиків.\n",
    "\n",
    "![img](https://sights.com.ua/wp-content/uploads/2022/08/20-glavnyh-dostoprimechatelnostej-norvegii-2347961.jpg)\n",
    "\n",
    "### ***Парк скульптур Вігеланда***\n",
    "Скульптури Густава Вігеланда складають окрему композицію великого парку Осло – Фрогнера. Спортивна боротьба, танці, біг, обійми – все, що робить і чим живе людина, втілилося в більш ніж двохстах застиглих фігурах.\n",
    "\n",
    "![img](https://sights.com.ua/wp-content/uploads/2022/08/20-glavnyh-dostoprimechatelnostej-norvegii-eca56ce.jpg)\n",
    "\n",
    "### ***Фломська залізниця***\n",
    "Двадцятикілометрова залізниця, що проходить на заході Норвегії, є складовою частиною Бергенської магістралі, але використовується переважно в туристичних цілях.\n",
    "\n",
    "![img](https://sights.com.ua/wp-content/uploads/2022/08/20-glavnyh-dostoprimechatelnostej-norvegii-83c7227.jpg)\n",
    "\n",
    "### ***Язик Тролля***\n",
    "Виступаюча ділянка скелі Скьеггедаль розташована далеко від класичних туристичних маршрутів дуже нагадує гігантський язик. З Язику Троля відкривається чудовий краєвид на озеро Рінгедалсватн, розташоване в трьохстах п’ятдесяти метрах нижче скелі.\n",
    "\n",
    "![img](https://sights.com.ua/wp-content/uploads/2022/08/20-glavnyh-dostoprimechatelnostej-norvegii-decd5eb.jpg)"
   ]
  },
  {
   "cell_type": "markdown",
   "id": "45fc647d",
   "metadata": {},
   "source": [
    "## <span style=\"color: #6495ED;\">Гіперпосилання</span>\n",
    "---\n",
    "1. [Норвегія](https://uk.wikipedia.org/wiki/Норвегія)\n",
    "2. [Норвежці](https://uk.wikipedia.org/wiki/Норвежці)\n",
    "3. [Що подивитися у норвегії: видатні пам'ятки](https://sights.com.ua/country/vyznachni-miscya-norway/#Юстедальсбреен)"
   ]
  },
  {
   "cell_type": "markdown",
   "id": "1f126eb2",
   "metadata": {},
   "source": [
    "### Task 2.\n",
    "\n",
    "Create a function to implement the algorithm, according to the number of your option from the table. For the created function, implement 2-3 test examples in the cells of the laptop."
   ]
  },
  {
   "cell_type": "code",
   "execution_count": 2,
   "id": "89dd7cc9-63e0-4263-8525-9a1a44dfb3fd",
   "metadata": {},
   "outputs": [],
   "source": [
    "import math\n",
    "\n",
    "def task10(n):\n",
    "    if not isinstance(n, int):\n",
    "        print(f\"{n} не є цілим числом\")\n",
    "    elif n < 0:\n",
    "        print(f\"Число {n} менше 0\")\n",
    "    else:\n",
    "        for a in range(1, math.isqrt(n) + 1):\n",
    "            b_square = n - a * a\n",
    "            if b_square > 0:\n",
    "                b = math.isqrt(b_square)\n",
    "                if b * b == b_square:\n",
    "                    print(f\"{a}^2 + {b}^2 = {n}\")\n",
    "                    return\n",
    "        print(f\"Число {n} не можна представити квадратами цілих чисел\")\n"
   ]
  },
  {
   "cell_type": "code",
   "execution_count": 3,
   "id": "d1800e00-0608-4778-8987-a29c37f37781",
   "metadata": {},
   "outputs": [
    {
     "name": "stdout",
     "output_type": "stream",
     "text": [
      "6^2 + 8^2 = 100\n"
     ]
    }
   ],
   "source": [
    "task10(100)"
   ]
  },
  {
   "cell_type": "code",
   "execution_count": 4,
   "id": "e596dfdd",
   "metadata": {},
   "outputs": [
    {
     "name": "stdout",
     "output_type": "stream",
     "text": [
      "12 не є цілим числом\n"
     ]
    }
   ],
   "source": [
    "task10('12')"
   ]
  },
  {
   "cell_type": "code",
   "execution_count": 5,
   "id": "4b49752f",
   "metadata": {},
   "outputs": [
    {
     "name": "stdout",
     "output_type": "stream",
     "text": [
      "Число 12 не можна представити квадратами цілих чисел\n"
     ]
    }
   ],
   "source": [
    "task10(12)"
   ]
  },
  {
   "cell_type": "code",
   "execution_count": 6,
   "id": "025b05b8",
   "metadata": {},
   "outputs": [
    {
     "name": "stdout",
     "output_type": "stream",
     "text": [
      "Число -1 менше 0\n"
     ]
    }
   ],
   "source": [
    "task10(-1)"
   ]
  }
 ],
 "metadata": {
  "kernelspec": {
   "display_name": "Python 3",
   "language": "python",
   "name": "python3"
  },
  "language_info": {
   "codemirror_mode": {
    "name": "ipython",
    "version": 3
   },
   "file_extension": ".py",
   "mimetype": "text/x-python",
   "name": "python",
   "nbconvert_exporter": "python",
   "pygments_lexer": "ipython3",
   "version": "3.12.5"
  }
 },
 "nbformat": 4,
 "nbformat_minor": 5
}
